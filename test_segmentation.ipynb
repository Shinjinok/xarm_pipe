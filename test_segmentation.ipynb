{
 "cells": [
  {
   "cell_type": "code",
   "execution_count": 13,
   "metadata": {},
   "outputs": [
    {
     "name": "stdout",
     "output_type": "stream",
     "text": [
      "length pcd  1826\n"
     ]
    }
   ],
   "source": [
    "#import copy\n",
    "import sys\n",
    "import numpy as np\n",
    "import open3d as o3d\n",
    "sys.path.append(\".\")\n",
    "#import pyransac3d as pyrsc\n",
    "import flattten_pcd as fp\n",
    "import matplotlib.pyplot as plt\n",
    "load_pcd = o3d.io.read_point_cloud(\"point_pipe.pcd\")\n",
    "print(\"length pcd \", len(np.array(load_pcd.points)))\n",
    "o3d.visualization.draw_geometries([load_pcd])"
   ]
  },
  {
   "cell_type": "code",
   "execution_count": 14,
   "metadata": {},
   "outputs": [
    {
     "name": "stdout",
     "output_type": "stream",
     "text": [
      "Downsample the point cloud with a voxel of 0.02\n",
      "length downpcd  433\n"
     ]
    }
   ],
   "source": [
    "print(\"Downsample the point cloud with a voxel of 0.02\")\n",
    "pcd2 = load_pcd.voxel_down_sample(voxel_size=0.02)\n",
    "print(\"length downpcd \", len(np.array(pcd2.points)))\n",
    "o3d.visualization.draw_geometries([pcd2])"
   ]
  },
  {
   "cell_type": "code",
   "execution_count": 16,
   "metadata": {},
   "outputs": [
    {
     "name": "stdout",
     "output_type": "stream",
     "text": [
      "Plane equation: 0.97x + 0.00y + -0.26z + -0.62 = 0\n",
      "[6, 7, 8, 9, 10, 11, 20, 22, 23, 24, 25, 26, 35, 36, 37, 38, 39, 40, 41, 42, 43, 44, 45, 46, 47, 52, 53, 54, 55, 56, 57, 58, 59, 60, 61, 62, 71, 72, 73, 74, 75, 76, 77, 78, 79, 80, 81, 82, 83, 84, 87, 91, 92, 93, 94, 95, 96, 97, 102, 103, 105, 106, 107, 108, 109, 110, 112, 113, 115, 117, 120, 122, 124, 126, 128, 130, 132, 133, 134, 139, 140, 143, 147, 148, 149, 150, 151, 152, 155, 157, 158, 159, 161, 164, 170, 171, 173, 176, 178, 179, 180, 182, 183, 186, 188, 190, 191, 192, 193, 195, 196, 197, 198, 199, 202, 204, 207, 211, 213, 215, 218, 219, 220, 221, 226, 229, 230, 231, 233, 237, 240, 242, 246, 248, 250, 253, 256, 258, 259, 261, 265, 266, 267, 272, 276, 279, 282, 285, 286, 289, 293, 296, 297, 299, 302, 303, 305, 311, 312, 313, 314, 315, 319, 322, 323, 324, 325, 326, 328, 330, 331, 332, 333, 334, 338, 341, 343, 344, 346, 353, 355, 357, 358, 359, 360, 361, 362, 366, 367, 368, 370, 372, 374, 377, 378, 379, 380, 381, 385, 389, 391, 392, 393, 394, 395, 396, 397, 398, 400, 403, 405, 407, 411, 414, 415, 416, 418, 420, 422, 424, 428, 429, 430, 432]\n",
      "224 433\n"
     ]
    }
   ],
   "source": [
    "plane_model, inliers = pcd2.segment_plane(distance_threshold=0.01,\n",
    "                                         ransac_n=3,\n",
    "                                         num_iterations=1000)\n",
    "[a, b, c, d] = plane_model\n",
    "print(f\"Plane equation: {a:.2f}x + {b:.2f}y + {c:.2f}z + {d:.2f} = 0\")\n",
    "\n",
    "inlier_cloud = pcd2.select_by_index(inliers)\n",
    "print(inliers)\n",
    "inlier_cloud.paint_uniform_color([1.0, 0, 0])\n",
    "outlier_cloud = pcd2.select_by_index(inliers, invert=True)\n",
    "outlier_cloud.paint_uniform_color([0, 1.0, 0])\n",
    "print(len(inliers), len(np.array(pcd2.points)))"
   ]
  },
  {
   "cell_type": "code",
   "execution_count": 18,
   "metadata": {},
   "outputs": [
    {
     "name": "stdout",
     "output_type": "stream",
     "text": [
      "inlider\n",
      "outlier_cloud\n",
      "[Open3D DEBUG] Precompute neighbors.\n",
      "[Open3D DEBUG] Done Precompute neighbors.\n",
      "[Open3D DEBUG] Compute Clusters\n",
      "[Open3D DEBUG] Done Compute Clusters: 0\n",
      "Precompute neighbors.[========================================] 100%\n"
     ]
    }
   ],
   "source": [
    "print(\"inlider\")\n",
    "o3d.visualization.draw_geometries([inlier_cloud])\n",
    "print(\"outlier_cloud\")\n",
    "o3d.visualization.draw_geometries([outlier_cloud])\n",
    "\n",
    "with o3d.utility.VerbosityContextManager(o3d.utility.VerbosityLevel.Debug) as cm:\n",
    "    labels = np.array(outlier_cloud.cluster_dbscan(eps=0.1, min_points=10, print_progress=True))"
   ]
  },
  {
   "cell_type": "code",
   "execution_count": 19,
   "metadata": {},
   "outputs": [
    {
     "name": "stdout",
     "output_type": "stream",
     "text": [
      "point cloud has 0 clusters\n",
      "length label:   209\n",
      "length outlier_cloud:   209\n"
     ]
    }
   ],
   "source": [
    "max_label = labels.max()\n",
    "print(f\"point cloud has {max_label + 1} clusters\")\n",
    "colors = plt.get_cmap(\"tab20\")(labels / (max_label if max_label > 0 else 1))\n",
    "colors[labels < 0] = 0\n",
    "outlier_cloud.colors = o3d.utility.Vector3dVector(colors[:, :3])\n",
    "print(\"length label:  \",len(labels))\n",
    "print(\"length outlier_cloud:  \",len(np.array(outlier_cloud.points)))\n",
    "o3d.visualization.draw_geometries([outlier_cloud])"
   ]
  },
  {
   "cell_type": "code",
   "execution_count": 9,
   "metadata": {},
   "outputs": [],
   "source": [
    "cluster = o3d.geometry.PointCloud()\n",
    "for c in range(max_label+1):\n",
    "    cluster = [i for i, n in enumerate(labels.tolist()) if n == c]\n",
    "    print(cluster) \n",
    "    cluster = outlier_cloud.select_by_index(cluster)\n",
    "    print(\"length cluster:  \",len(np.array(cluster.points)))\n",
    "    o3d.visualization.draw_geometries([cluster])"
   ]
  },
  {
   "cell_type": "code",
   "execution_count": 8,
   "metadata": {},
   "outputs": [
    {
     "name": "stdout",
     "output_type": "stream",
     "text": [
      "[]\n",
      "length cluster:   0\n"
     ]
    }
   ],
   "source": [
    "cluster = [i for i, n in enumerate(labels.tolist()) if n == 1]\n",
    "print(cluster) \n",
    "cluster = outlier_cloud.select_by_index(cluster)\n",
    "print(\"length cluster:  \",len(np.array(cluster.points)))\n",
    "o3d.visualization.draw_geometries([cluster])"
   ]
  },
  {
   "cell_type": "code",
   "execution_count": 10,
   "metadata": {},
   "outputs": [
    {
     "ename": "ModuleNotFoundError",
     "evalue": "No module named 'aux_functions'",
     "output_type": "error",
     "traceback": [
      "\u001b[0;31m---------------------------------------------------------------------------\u001b[0m",
      "\u001b[0;31mModuleNotFoundError\u001b[0m                       Traceback (most recent call last)",
      "Cell \u001b[0;32mIn[10], line 1\u001b[0m\n\u001b[0;32m----> 1\u001b[0m \u001b[39mimport\u001b[39;00m \u001b[39mcylinder2\u001b[39;00m \u001b[39mas\u001b[39;00m \u001b[39mcy2\u001b[39;00m\n",
      "File \u001b[0;32m~/xarm_pipe/cylinder2.py:5\u001b[0m\n\u001b[1;32m      1\u001b[0m \u001b[39mimport\u001b[39;00m \u001b[39mrandom\u001b[39;00m\n\u001b[1;32m      3\u001b[0m \u001b[39mimport\u001b[39;00m \u001b[39mnumpy\u001b[39;00m \u001b[39mas\u001b[39;00m \u001b[39mnp\u001b[39;00m\n\u001b[0;32m----> 5\u001b[0m \u001b[39mfrom\u001b[39;00m \u001b[39maux_functions\u001b[39;00m \u001b[39mimport\u001b[39;00m rodrigues_rot\n\u001b[1;32m      8\u001b[0m \u001b[39mclass\u001b[39;00m \u001b[39mCylinder\u001b[39;00m:\n\u001b[1;32m      9\u001b[0m \u001b[39m    \u001b[39m\u001b[39m\"\"\"\u001b[39;00m\n\u001b[1;32m     10\u001b[0m \u001b[39m    !!! warning\u001b[39;00m\n\u001b[1;32m     11\u001b[0m \u001b[39m        The cylinder RANSAC does NOT present good results on real data on the current version.\u001b[39;00m\n\u001b[0;32m   (...)\u001b[0m\n\u001b[1;32m     19\u001b[0m \u001b[39m    ---\u001b[39;00m\n\u001b[1;32m     20\u001b[0m \u001b[39m    \"\"\"\u001b[39;00m\n",
      "\u001b[0;31mModuleNotFoundError\u001b[0m: No module named 'aux_functions'"
     ]
    }
   ],
   "source": [
    "import cylinder2 as cy2"
   ]
  },
  {
   "cell_type": "code",
   "execution_count": 11,
   "metadata": {},
   "outputs": [
    {
     "ename": "NameError",
     "evalue": "name 'cy2' is not defined",
     "output_type": "error",
     "traceback": [
      "\u001b[0;31m---------------------------------------------------------------------------\u001b[0m",
      "\u001b[0;31mNameError\u001b[0m                                 Traceback (most recent call last)",
      "Cell \u001b[0;32mIn[11], line 1\u001b[0m\n\u001b[0;32m----> 1\u001b[0m cil \u001b[39m=\u001b[39m cy2\u001b[39m.\u001b[39mCylinder()\n\u001b[1;32m      2\u001b[0m points \u001b[39m=\u001b[39m np\u001b[39m.\u001b[39masarray(cluster\u001b[39m.\u001b[39mpoints)\n\u001b[1;32m      3\u001b[0m center, normal, radius, inliers \u001b[39m=\u001b[39m cil\u001b[39m.\u001b[39mfit(points, thresh\u001b[39m=\u001b[39m\u001b[39m0.01\u001b[39m, maxIteration\u001b[39m=\u001b[39m\u001b[39m10000\u001b[39m)\n",
      "\u001b[0;31mNameError\u001b[0m: name 'cy2' is not defined"
     ]
    }
   ],
   "source": [
    "cil = cy2.Cylinder()\n",
    "points = np.asarray(cluster.points)\n",
    "center, normal, radius, inliers = cil.fit(points, thresh=0.01, maxIteration=10000)\n",
    "\n",
    "#center, normal, radius, inliers = fp.get_cylinder(cluster, thresh=0.01, maxIteration=10000)\n",
    "mesh_cylinder = fp.get_clylinder_mesh(center, normal, radius)\n",
    "print(\"center: \" + str(center))\n",
    "print(\"radius: \" + str(radius))\n",
    "print(\"vecC: \" + str(normal))\n",
    "#print(\"inliers: \", inliers)\n",
    "\n",
    "inlier_cloud = cluster.select_by_index(inliers)"
   ]
  },
  {
   "cell_type": "code",
   "execution_count": 16,
   "metadata": {},
   "outputs": [
    {
     "ename": "NameError",
     "evalue": "name 'mesh_cylinder' is not defined",
     "output_type": "error",
     "traceback": [
      "\u001b[0;31m---------------------------------------------------------------------------\u001b[0m",
      "\u001b[0;31mNameError\u001b[0m                                 Traceback (most recent call last)",
      "Cell \u001b[0;32mIn[16], line 1\u001b[0m\n\u001b[0;32m----> 1\u001b[0m o3d\u001b[39m.\u001b[39mvisualization\u001b[39m.\u001b[39mdraw_geometries([mesh_cylinder,inlier_cloud])\n",
      "\u001b[0;31mNameError\u001b[0m: name 'mesh_cylinder' is not defined"
     ]
    }
   ],
   "source": [
    "o3d.visualization.draw_geometries([mesh_cylinder,inlier_cloud])"
   ]
  }
 ],
 "metadata": {
  "kernelspec": {
   "display_name": "Python 3",
   "language": "python",
   "name": "python3"
  },
  "language_info": {
   "codemirror_mode": {
    "name": "ipython",
    "version": 3
   },
   "file_extension": ".py",
   "mimetype": "text/x-python",
   "name": "python",
   "nbconvert_exporter": "python",
   "pygments_lexer": "ipython3",
   "version": "3.8.10"
  },
  "orig_nbformat": 4
 },
 "nbformat": 4,
 "nbformat_minor": 2
}
